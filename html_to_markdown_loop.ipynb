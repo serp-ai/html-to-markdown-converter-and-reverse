{
 "cells": [
  {
   "attachments": {},
   "cell_type": "markdown",
   "metadata": {},
   "source": [
    "# README\n",
    "\n",
    "This notebook cleans HTML by converting it to markdown, and then converting that markdown to HTML\n",
    "\n",
    "## STEPS\n",
    "\n",
    "1. upload a csv (make sure there is a column named `article`)\n",
    "2. run all\n"
   ]
  },
  {
   "cell_type": "code",
   "execution_count": null,
   "metadata": {},
   "outputs": [],
   "source": [
    "# !pip install markdown"
   ]
  },
  {
   "cell_type": "code",
   "execution_count": 4,
   "metadata": {},
   "outputs": [],
   "source": [
    "import pandas as pd\n",
    "import html2text\n",
    "import markdown"
   ]
  },
  {
   "cell_type": "code",
   "execution_count": 5,
   "metadata": {},
   "outputs": [],
   "source": [
    "csv_file = input(\"Input your csv filepath: \") # Replace with your CSV file path\n",
    "df = pd.read_csv(csv_file)"
   ]
  },
  {
   "cell_type": "code",
   "execution_count": 6,
   "metadata": {},
   "outputs": [],
   "source": [
    "# Initialize the html2text converter\n",
    "converter = html2text.HTML2Text()\n",
    "converter.ignore_links = False\n",
    "converter.ignore_images = False\n",
    "\n",
    "# Function to convert HTML to Markdown\n",
    "def html_to_markdown(html):\n",
    "    if pd.isna(html) or html.strip() == '':\n",
    "        return None\n",
    "    md = converter.handle(html)\n",
    "    return md.strip()\n",
    "\n",
    "# Function to convert Markdown to HTML\n",
    "def markdown_to_html(md):\n",
    "    if pd.isna(md) or md.strip() == '':\n",
    "        return None\n",
    "    return markdown.markdown(md)\n",
    "\n",
    "# Loop through the 'article' column, convert the HTML to Markdown, and store the result in a new column 'article_markdown'\n",
    "df['article_markdown'] = df['article'].apply(html_to_markdown)\n",
    "\n",
    "# Loop through the 'article_markdown' column, convert the Markdown to HTML, and store the result in a new column 'article_html_new'\n",
    "df['article_html_new'] = df['article_markdown'].apply(markdown_to_html)\n",
    "\n",
    "# Save the modified DataFrame to a new CSV file\n",
    "df.to_csv(f\"{csv_file}_output.csv\", index=False)"
   ]
  }
 ],
 "metadata": {
  "kernelspec": {
   "display_name": "venv-jupyter",
   "language": "python",
   "name": "python3"
  },
  "language_info": {
   "codemirror_mode": {
    "name": "ipython",
    "version": 3
   },
   "file_extension": ".py",
   "mimetype": "text/x-python",
   "name": "python",
   "nbconvert_exporter": "python",
   "pygments_lexer": "ipython3",
   "version": "3.10.11"
  },
  "orig_nbformat": 4
 },
 "nbformat": 4,
 "nbformat_minor": 2
}
