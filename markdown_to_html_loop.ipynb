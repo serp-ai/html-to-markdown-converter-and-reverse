{
 "cells": [
  {
   "attachments": {},
   "cell_type": "markdown",
   "metadata": {},
   "source": [
    "# MARKDOWN TO HTML\n",
    "\n",
    "This notebook converts markdown to HTML by iterating through a CSV where each cell (in a column named 'article') contains the full article as markdown.\n",
    "\n",
    "## STEPS\n",
    "\n",
    "1. upload a csv (make sure there is a column named `article`)\n",
    "2. run all\n"
   ]
  },
  {
   "cell_type": "code",
   "execution_count": 1,
   "metadata": {},
   "outputs": [],
   "source": [
    "# !pip install markdown"
   ]
  },
  {
   "cell_type": "code",
   "execution_count": 2,
   "metadata": {},
   "outputs": [],
   "source": [
    "import pandas as pd\n",
    "import html2text\n",
    "import markdown"
   ]
  },
  {
   "cell_type": "code",
   "execution_count": 3,
   "metadata": {},
   "outputs": [],
   "source": [
    "csv_file = input(\"Input your csv filepath: \") # Replace with your CSV file path\n",
    "df = pd.read_csv(csv_file)"
   ]
  },
  {
   "cell_type": "code",
   "execution_count": 4,
   "metadata": {},
   "outputs": [],
   "source": [
    "# Function to convert Markdown to HTML\n",
    "def markdown_to_html(md):\n",
    "    if pd.isna(md) or md.strip() == '':\n",
    "        return None\n",
    "    return markdown.markdown(md)\n",
    "\n",
    "# Loop through the 'article' column which now contains Markdown, convert the Markdown to HTML, and store the result in a new column 'article_html'\n",
    "df['article_html'] = df['article'].apply(markdown_to_html)\n",
    "\n",
    "# Save the modified DataFrame to a new CSV file\n",
    "df.to_csv(f\"{csv_file}_output.csv\", index=False)"
   ]
  }
 ],
 "metadata": {
  "kernelspec": {
   "display_name": "venv-jupyter",
   "language": "python",
   "name": "python3"
  },
  "language_info": {
   "codemirror_mode": {
    "name": "ipython",
    "version": 3
   },
   "file_extension": ".py",
   "mimetype": "text/x-python",
   "name": "python",
   "nbconvert_exporter": "python",
   "pygments_lexer": "ipython3",
   "version": "3.10.11"
  },
  "orig_nbformat": 4
 },
 "nbformat": 4,
 "nbformat_minor": 2
}
